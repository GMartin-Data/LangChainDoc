{
 "cells": [
  {
   "cell_type": "markdown",
   "metadata": {},
   "source": [
    "# Introduction to LangGraph"
   ]
  },
  {
   "cell_type": "markdown",
   "metadata": {},
   "source": [
    "In this tutorial, we will build a support chatbot in LangGraph that can:\n",
    "- Answer common questions by searching the Web.\n",
    "- Maintain conversation state across calls.\n",
    "- Route complex queries to a human for review.\n",
    "- Use custom state to control its behavior.\n",
    "- Rewind and explore alternative conversation paths.\n",
    "\n",
    "We will:\n",
    "- start with a basic chatbot,\n",
    "- progressively add more sophisticated capabilities\n",
    "\n",
    "This will allow us to introduce key LangGraph concepts along the way."
   ]
  },
  {
   "cell_type": "markdown",
   "metadata": {},
   "source": [
    "# Setup"
   ]
  },
  {
   "cell_type": "code",
   "execution_count": 5,
   "metadata": {},
   "outputs": [],
   "source": [
    "import os\n",
    "\n",
    "from dotenv import load_dotenv\n",
    "from rich import print as rprint"
   ]
  },
  {
   "cell_type": "code",
   "execution_count": 7,
   "metadata": {},
   "outputs": [],
   "source": [
    "_ = load_dotenv()\n",
    "os.environ[\"LANGCHAIN_PROJECT\"] = \"LangGraph Tutorial\""
   ]
  },
  {
   "cell_type": "markdown",
   "metadata": {},
   "source": [
    "# 1. Build a Basic Chatbot"
   ]
  },
  {
   "cell_type": "markdown",
   "metadata": {},
   "source": [
    "We'll first create a simple chatbot using LangGraph.\n",
    "\n",
    "This chatbot will respond directly to user messages. Though simple, it will illustrate the core concepts of building with LangGraph. By the end of this section, you will have a built rudimentary chatbot."
   ]
  },
  {
   "cell_type": "markdown",
   "metadata": {},
   "source": [
    "- Start by instanciating a `StateGraph`. A `StateGraph` object defines the structure of our chatbot as a *\"state machine\"*.\n",
    "- We'll add:\n",
    "    - ` nodes` to represent:\n",
    "        - the llm,\n",
    "        - functions our chatbot can call;\n",
    "    - `edges` to specify how the bot should transition between these `nodes`\n"
   ]
  },
  {
   "cell_type": "code",
   "execution_count": 10,
   "metadata": {},
   "outputs": [],
   "source": [
    "from typing import Annotated\n",
    "from typing_extensions import TypedDict\n",
    "\n",
    "from langgraph.graph import StateGraph\n",
    "from langgraph.graph.message import add_messages"
   ]
  },
  {
   "cell_type": "markdown",
   "metadata": {},
   "source": [
    "> - **STACK OVERFLOW**: [**How to use python `typing.Annotated`**](https://stackoverflow.com/questions/71898644/how-to-use-python-typing-annotated)\n",
    "> - **DOCUMENTATION**: [**typing_extensions**](https://typing-extensions.readthedocs.io/en/latest/#)"
   ]
  },
  {
   "cell_type": "markdown",
   "metadata": {},
   "source": [
    "## Defining `State` and Instanciating `StateGraph`"
   ]
  },
  {
   "cell_type": "code",
   "execution_count": 11,
   "metadata": {},
   "outputs": [],
   "source": [
    "# Define the data type of the state with a State class\n",
    "class State(TypedDict):\n",
    "    \"\"\"\n",
    "    Messages have the type `list`. The `add_messages` function in the annotation\n",
    "    defines how this state key should be updated (with this function then)\n",
    "    (in this case, it happens messages to the list, rather than overwriting them)\n",
    "    \"\"\"\n",
    "    messages: Annotated[list, add_messages]\n",
    "\n",
    "# Instanciate a StateGraph object, linked to this State class\n",
    "graph_builder = StateGraph(State)"
   ]
  },
  {
   "cell_type": "markdown",
   "metadata": {},
   "source": [
    "### Some Introspection"
   ]
  },
  {
   "cell_type": "code",
   "execution_count": 15,
   "metadata": {},
   "outputs": [
    {
     "data": {
      "text/plain": [
       "langgraph.graph.state.StateGraph"
      ]
     },
     "execution_count": 15,
     "metadata": {},
     "output_type": "execute_result"
    }
   ],
   "source": [
    "type(graph_builder)"
   ]
  },
  {
   "cell_type": "code",
   "execution_count": 22,
   "metadata": {},
   "outputs": [
    {
     "data": {
      "text/html": [
       "<pre style=\"white-space:pre;overflow-x:auto;line-height:normal;font-family:Menlo,'DejaVu Sans Mono',consolas,'Courier New',monospace\"><span style=\"font-weight: bold\">&lt;</span><span style=\"color: #ff00ff; text-decoration-color: #ff00ff; font-weight: bold\">langgraph.graph.state.StateGraph</span><span style=\"color: #000000; text-decoration-color: #000000\"> object at </span><span style=\"color: #008080; text-decoration-color: #008080; font-weight: bold\">0x7b57356177d0</span><span style=\"font-weight: bold\">&gt;</span>\n",
       "</pre>\n"
      ],
      "text/plain": [
       "\u001b[1m<\u001b[0m\u001b[1;95mlanggraph.graph.state.StateGraph\u001b[0m\u001b[39m object at \u001b[0m\u001b[1;36m0x7b57356177d0\u001b[0m\u001b[1m>\u001b[0m\n"
      ]
     },
     "metadata": {},
     "output_type": "display_data"
    }
   ],
   "source": [
    "rprint(graph_builder)"
   ]
  },
  {
   "cell_type": "code",
   "execution_count": 17,
   "metadata": {},
   "outputs": [
    {
     "data": {
      "text/plain": [
       "['add_conditional_edges',\n",
       " 'add_edge',\n",
       " 'add_node',\n",
       " 'branches',\n",
       " 'channels',\n",
       " 'compile',\n",
       " 'compiled',\n",
       " 'config_schema',\n",
       " 'edges',\n",
       " 'managed',\n",
       " 'nodes',\n",
       " 'schema',\n",
       " 'set_conditional_entry_point',\n",
       " 'set_entry_point',\n",
       " 'set_finish_point',\n",
       " 'support_multiple_edges',\n",
       " 'validate',\n",
       " 'waiting_edges']"
      ]
     },
     "execution_count": 17,
     "metadata": {},
     "output_type": "execute_result"
    }
   ],
   "source": [
    "sg_attrs = [item for item in dir(graph_builder) if item[0] != \"_\"]\n",
    "sg_attrs"
   ]
  },
  {
   "cell_type": "markdown",
   "metadata": {},
   "source": [
    "> This `StateGraph` object contains all the attributes and methods needed to build a graph, adding components like nodes and edges, and defining an entrypoint."
   ]
  },
  {
   "cell_type": "markdown",
   "metadata": {},
   "source": [
    "### Explanations"
   ]
  },
  {
   "cell_type": "markdown",
   "metadata": {},
   "source": [
    "Notice that we've defined our `State` as a `TypedDict` with a single key: `messages`.\n",
    "\n",
    "The `messages` key is annotated with the `add_messages` function, which tells LangGraph to append messages to the existing list, rather than overwriting it.\n",
    "\n",
    "So, our new graph knows two things:\n",
    "1. Every `node` we define will:\n",
    "    - receive the current `State` as input,\n",
    "    - return a value that updates this state.\n",
    "2. `messages` will be **appended** to the current list, rather than directly overwritten. This is specified via the prebuilt `add_messages` function in the `Annotated` syntax."
   ]
  },
  {
   "cell_type": "markdown",
   "metadata": {},
   "source": [
    "## Adding a \"Chatbot\" Node"
   ]
  },
  {
   "cell_type": "markdown",
   "metadata": {},
   "source": [
    "**Nodes** represent **units of work**.\n",
    "\n",
    "They're typically regular python functions."
   ]
  },
  {
   "cell_type": "code",
   "execution_count": 18,
   "metadata": {},
   "outputs": [],
   "source": [
    "from langchain_openai import ChatOpenAI"
   ]
  },
  {
   "cell_type": "code",
   "execution_count": 19,
   "metadata": {},
   "outputs": [],
   "source": [
    "# Instanciate LLM\n",
    "llm = ChatOpenAI(model=\"gpt-3.5-turbo\")\n",
    "\n",
    "# Define unit of work\n",
    "def chatbot(state: State):\n",
    "    return {\"messages\": [llm.invoke(state[\"messages\"])]}"
   ]
  },
  {
   "cell_type": "code",
   "execution_count": 20,
   "metadata": {},
   "outputs": [],
   "source": [
    "# The first argument is the node's name\n",
    "# The second one is the name of the function called when the node is used\n",
    "graph_builder.add_node(\"chatbot\", chatbot)"
   ]
  },
  {
   "cell_type": "markdown",
   "metadata": {},
   "source": [
    "### Explanations"
   ]
  },
  {
   "cell_type": "markdown",
   "metadata": {},
   "source": [
    "Notice how the `chatbot` node function:\n",
    "- takes the current `State` as input,\n",
    "- returns an updated `messages` list.\n",
    "\n",
    "This is the basic pattern for all LangGraph node functions."
   ]
  },
  {
   "cell_type": "markdown",
   "metadata": {},
   "source": [
    "The `add_messages` function in our `State` will append the llm's response messages to whatever messages are already in the state."
   ]
  },
  {
   "cell_type": "markdown",
   "metadata": {},
   "source": [
    "## Set an Entry Point"
   ]
  },
  {
   "cell_type": "markdown",
   "metadata": {},
   "source": [
    "This will tell our graph **where to start to work** each time we run it."
   ]
  },
  {
   "cell_type": "code",
   "execution_count": 24,
   "metadata": {},
   "outputs": [],
   "source": [
    "graph_builder.set_entry_point(\"chatbot\")"
   ]
  },
  {
   "cell_type": "markdown",
   "metadata": {},
   "source": [
    "## Set a Finish Point"
   ]
  },
  {
   "cell_type": "markdown",
   "metadata": {},
   "source": [
    "Similarly, this will instruct the graph **\"any time this node is run, you can exit\"**."
   ]
  },
  {
   "cell_type": "code",
   "execution_count": 25,
   "metadata": {},
   "outputs": [],
   "source": [
    "graph_builder.set_finish_point(\"chatbot\")"
   ]
  },
  {
   "cell_type": "markdown",
   "metadata": {},
   "source": [
    "## Compile"
   ]
  },
  {
   "cell_type": "markdown",
   "metadata": {},
   "source": [
    "Finally we want to be able to run our graph.\n",
    "\n",
    "To do so, call `compile` method on the graph builder, which will create a `CompiledGraph` we can use to invoke on our state."
   ]
  },
  {
   "cell_type": "code",
   "execution_count": 26,
   "metadata": {},
   "outputs": [],
   "source": [
    "graph = graph_builder.compile()"
   ]
  },
  {
   "cell_type": "markdown",
   "metadata": {},
   "source": [
    "### Introspection"
   ]
  },
  {
   "cell_type": "code",
   "execution_count": 27,
   "metadata": {},
   "outputs": [
    {
     "data": {
      "text/plain": [
       "langgraph.graph.state.CompiledStateGraph"
      ]
     },
     "execution_count": 27,
     "metadata": {},
     "output_type": "execute_result"
    }
   ],
   "source": [
    "type(graph)"
   ]
  },
  {
   "cell_type": "code",
   "execution_count": 28,
   "metadata": {},
   "outputs": [
    {
     "data": {
      "text/plain": [
       "(langgraph.graph.state.CompiledStateGraph,\n",
       " langgraph.graph.graph.CompiledGraph,\n",
       " langgraph.pregel.Pregel,\n",
       " langchain_core.runnables.base.RunnableSerializable,\n",
       " langchain_core.load.serializable.Serializable,\n",
       " pydantic.v1.main.BaseModel,\n",
       " pydantic.v1.utils.Representation,\n",
       " langchain_core.runnables.base.Runnable,\n",
       " typing.Generic,\n",
       " abc.ABC,\n",
       " object)"
      ]
     },
     "execution_count": 28,
     "metadata": {},
     "output_type": "execute_result"
    }
   ],
   "source": [
    "graph.__class__.__mro__"
   ]
  },
  {
   "cell_type": "code",
   "execution_count": 29,
   "metadata": {},
   "outputs": [
    {
     "data": {
      "text/plain": [
       "['Config',\n",
       " 'InputType',\n",
       " 'OutputType',\n",
       " 'abatch',\n",
       " 'abatch_as_completed',\n",
       " 'aget_state',\n",
       " 'aget_state_history',\n",
       " 'ainvoke',\n",
       " 'assign',\n",
       " 'astream',\n",
       " 'astream_events',\n",
       " 'astream_log',\n",
       " 'atransform',\n",
       " 'attach_branch',\n",
       " 'attach_edge',\n",
       " 'attach_node',\n",
       " 'aupdate_state',\n",
       " 'auto_validate',\n",
       " 'batch',\n",
       " 'batch_as_completed',\n",
       " 'bind',\n",
       " 'builder',\n",
       " 'channels',\n",
       " 'checkpointer',\n",
       " 'config_schema',\n",
       " 'config_specs',\n",
       " 'config_type',\n",
       " 'configurable_alternatives',\n",
       " 'configurable_fields',\n",
       " 'construct',\n",
       " 'copy',\n",
       " 'debug',\n",
       " 'dict',\n",
       " 'from_orm',\n",
       " 'get_graph',\n",
       " 'get_input_schema',\n",
       " 'get_lc_namespace',\n",
       " 'get_name',\n",
       " 'get_output_schema',\n",
       " 'get_prompts',\n",
       " 'get_state',\n",
       " 'get_state_history',\n",
       " 'input_channels',\n",
       " 'input_schema',\n",
       " 'interrupt_after_nodes',\n",
       " 'interrupt_before_nodes',\n",
       " 'invoke',\n",
       " 'is_lc_serializable',\n",
       " 'json',\n",
       " 'lc_attributes',\n",
       " 'lc_id',\n",
       " 'lc_secrets',\n",
       " 'managed_values_dict',\n",
       " 'map',\n",
       " 'name',\n",
       " 'nodes',\n",
       " 'output_channels',\n",
       " 'output_schema',\n",
       " 'parse_file',\n",
       " 'parse_obj',\n",
       " 'parse_raw',\n",
       " 'pick',\n",
       " 'pipe',\n",
       " 'retry_policy',\n",
       " 'schema',\n",
       " 'schema_json',\n",
       " 'step_timeout',\n",
       " 'stream',\n",
       " 'stream_channels',\n",
       " 'stream_channels_asis',\n",
       " 'stream_channels_list',\n",
       " 'stream_mode',\n",
       " 'to_json',\n",
       " 'to_json_not_implemented',\n",
       " 'transform',\n",
       " 'update_forward_refs',\n",
       " 'update_state',\n",
       " 'validate',\n",
       " 'validate_on_init',\n",
       " 'with_config',\n",
       " 'with_fallbacks',\n",
       " 'with_listeners',\n",
       " 'with_retry',\n",
       " 'with_types']"
      ]
     },
     "execution_count": 29,
     "metadata": {},
     "output_type": "execute_result"
    }
   ],
   "source": [
    "[item for item in dir(graph) if item[0] != \"_\"]"
   ]
  },
  {
   "cell_type": "markdown",
   "metadata": {},
   "source": [
    "## Visualize the Graph"
   ]
  },
  {
   "cell_type": "markdown",
   "metadata": {},
   "source": [
    "You can visualize the graph  using:\n",
    "- the `get_graph` method,\n",
    "- one of the \"draw\" method like, for example:\n",
    "    - `draw_ascii`,\n",
    "    - `draw_png`...\n",
    "\n",
    "Notice that the `draw` methods each require additional dependencies."
   ]
  },
  {
   "cell_type": "code",
   "execution_count": 41,
   "metadata": {},
   "outputs": [
    {
     "data": {
      "text/plain": [
       "['draw_ascii', 'draw_mermaid', 'draw_mermaid_png', 'draw_png']"
      ]
     },
     "execution_count": 41,
     "metadata": {},
     "output_type": "execute_result"
    }
   ],
   "source": [
    "# List the different available methods\n",
    "[item for item in dir(graph.get_graph()) if item.startswith(\"draw\")]"
   ]
  },
  {
   "cell_type": "code",
   "execution_count": 30,
   "metadata": {},
   "outputs": [],
   "source": [
    "from IPython.display import Image, display"
   ]
  },
  {
   "cell_type": "markdown",
   "metadata": {},
   "source": [
    "> The following code raises a weird error which will be investigated later."
   ]
  },
  {
   "cell_type": "code",
   "execution_count": 36,
   "metadata": {},
   "outputs": [],
   "source": [
    "# try:\n",
    "#     display(Image(graph.get_graph().draw_ascii()))\n",
    "# except Exception as e:\n",
    "#     print(e)  # Needs grandalf package"
   ]
  },
  {
   "cell_type": "code",
   "execution_count": 37,
   "metadata": {},
   "outputs": [
    {
     "data": {
      "image/png": "[encoded data removed]",
      "text/plain": [
       "<IPython.core.display.Image object>"
      ]
     },
     "metadata": {},
     "output_type": "display_data"
    }
   ],
   "source": [
    "try:\n",
    "    display(Image(graph.get_graph().draw_png()))\n",
    "except Exception:\n",
    "    # This requires some extra dependencies and is optional\n",
    "    pass"
   ]
  },
  {
   "cell_type": "markdown",
   "metadata": {},
   "source": [
    "> Raises a weird error that should be fixed later too..."
   ]
  },
  {
   "cell_type": "code",
   "execution_count": 43,
   "metadata": {},
   "outputs": [],
   "source": [
    "# try:\n",
    "#     display(Image(graph.get_graph().draw_mermaid()))\n",
    "# except Exception:\n",
    "#     # This requires some extra dependencies and is optional\n",
    "#     pass"
   ]
  },
  {
   "cell_type": "code",
   "execution_count": 44,
   "metadata": {},
   "outputs": [
    {
     "data": {
      "image/jpeg": "[encoded data removed]",
      "text/plain": [
       "<IPython.core.display.Image object>"
      ]
     },
     "metadata": {},
     "output_type": "display_data"
    }
   ],
   "source": [
    "try:\n",
    "    display(Image(graph.get_graph().draw_mermaid_png()))\n",
    "except Exception:\n",
    "    # This requires some extra dependencies and is optional\n",
    "    pass"
   ]
  },
  {
   "cell_type": "markdown",
   "metadata": {},
   "source": [
    "> Adopt either style you prefer or try several depending on circumstances."
   ]
  },
  {
   "cell_type": "markdown",
   "metadata": {},
   "source": [
    "## Run the Chatbot"
   ]
  },
  {
   "cell_type": "code",
   "execution_count": 48,
   "metadata": {},
   "outputs": [
    {
     "data": {
      "text/html": [
       "<pre style=\"white-space:pre;overflow-x:auto;line-height:normal;font-family:Menlo,'DejaVu Sans Mono',consolas,'Courier New',monospace\">Assistant:  LangGraph is a language learning platform that uses AI technology to help users improve their language \n",
       "skills through interactive lessons, personalized feedback, and real-time practice exercises. The platform offers \n",
       "courses in various languages, including English, Spanish, French, and German, and caters to learners of all levels,\n",
       "from beginners to advanced speakers. LangGraph also provides users with progress tracking tools, study reminders, \n",
       "and a community forum where they can connect with other language learners.\n",
       "</pre>\n"
      ],
      "text/plain": [
       "Assistant:  LangGraph is a language learning platform that uses AI technology to help users improve their language \n",
       "skills through interactive lessons, personalized feedback, and real-time practice exercises. The platform offers \n",
       "courses in various languages, including English, Spanish, French, and German, and caters to learners of all levels,\n",
       "from beginners to advanced speakers. LangGraph also provides users with progress tracking tools, study reminders, \n",
       "and a community forum where they can connect with other language learners.\n"
      ]
     },
     "metadata": {},
     "output_type": "display_data"
    },
    {
     "data": {
      "text/html": [
       "<pre style=\"white-space:pre;overflow-x:auto;line-height:normal;font-family:Menlo,'DejaVu Sans Mono',consolas,'Courier New',monospace\">Goodbye!\n",
       "</pre>\n"
      ],
      "text/plain": [
       "Goodbye!\n"
      ]
     },
     "metadata": {},
     "output_type": "display_data"
    }
   ],
   "source": [
    "while True:\n",
    "    user_input = input(\"User: \")\n",
    "    if user_input.lower() in (\"quit\", \"exit\", \"q\"):\n",
    "        rprint(\"Goodbye!\")\n",
    "        break\n",
    "    for event in graph.stream({\"messages\": (\"user\", user_input)}):\n",
    "        for value in event.values():\n",
    "            rprint(\"Assistant: \", value[\"messages\"][-1].content)"
   ]
  },
  {
   "cell_type": "markdown",
   "metadata": {},
   "source": [
    "## Inspect the LangSmith Trace"
   ]
  },
  {
   "cell_type": "markdown",
   "metadata": {},
   "source": [
    "At the provided link."
   ]
  },
  {
   "cell_type": "markdown",
   "metadata": {},
   "source": [
    "## Limits"
   ]
  },
  {
   "cell_type": "markdown",
   "metadata": {},
   "source": [
    "You may have noticed that **the bot's knowledge is limited to what's in its training data**.\n",
    "\n",
    "In the next part, **we will add a Web search tool to expand the bot's knowledge** and make it more capable."
   ]
  },
  {
   "cell_type": "markdown",
   "metadata": {},
   "source": [
    "# 2. Enhancing the Chatbot With Tools"
   ]
  },
  {
   "cell_type": "markdown",
   "metadata": {},
   "source": [
    "To handle queries our chatbot can't answer \"from memory\", we'll **integrate a Web search tool**.\n",
    "\n",
    "Our bot can use this tool to find relevant information and provide better responses."
   ]
  },
  {
   "cell_type": "markdown",
   "metadata": {},
   "source": [
    "## Define the Tool"
   ]
  },
  {
   "cell_type": "code",
   "execution_count": 49,
   "metadata": {},
   "outputs": [],
   "source": [
    "from langchain_community.tools.tavily_search import TavilySearchResults"
   ]
  },
  {
   "cell_type": "code",
   "execution_count": 50,
   "metadata": {},
   "outputs": [],
   "source": [
    "tool = TavilySearchResults(max_results=2)\n",
    "\n",
    "tools = [tool]"
   ]
  },
  {
   "cell_type": "code",
   "execution_count": 52,
   "metadata": {},
   "outputs": [
    {
     "data": {
      "text/html": [
       "<pre style=\"white-space:pre;overflow-x:auto;line-height:normal;font-family:Menlo,'DejaVu Sans Mono',consolas,'Courier New',monospace\"><span style=\"font-weight: bold\">[</span>\n",
       "    <span style=\"font-weight: bold\">{</span>\n",
       "        <span style=\"color: #008000; text-decoration-color: #008000\">'url'</span>: <span style=\"color: #008000; text-decoration-color: #008000\">'https://medium.com/@cplog/introduction-to-langgraph-a-beginners-guide-14f9be027141'</span>,\n",
       "        <span style=\"color: #008000; text-decoration-color: #008000\">'content'</span>: <span style=\"color: #008000; text-decoration-color: #008000\">'Nodes: Nodes are the building blocks of your LangGraph. Each node represents a function or a </span>\n",
       "<span style=\"color: #008000; text-decoration-color: #008000\">computation step. You define nodes to perform specific tasks, such as processing input, making ...'</span>\n",
       "    <span style=\"font-weight: bold\">}</span>,\n",
       "    <span style=\"font-weight: bold\">{</span>\n",
       "        <span style=\"color: #008000; text-decoration-color: #008000\">'url'</span>: <span style=\"color: #008000; text-decoration-color: #008000\">'https://www.ionio.ai/blog/a-comprehensive-guide-about-langgraph-code-included'</span>,\n",
       "        <span style=\"color: #008000; text-decoration-color: #008000\">'content'</span>: <span style=\"color: #008000; text-decoration-color: #008000\">'A node can be any function or tool your agent uses in langgraph and these nodes are connected </span>\n",
       "<span style=\"color: #008000; text-decoration-color: #008000\">with other nodes using edges. Every workflow ends with a \"END\" node in langgraph which shows the end of workflow. </span>\n",
       "<span style=\"color: #008000; text-decoration-color: #008000\">You also need to define a starting node which will be the starting point of your workflow. Optionally, you can also</span>\n",
       "<span style=\"color: #008000; text-decoration-color: #008000\">define an ending ...'</span>\n",
       "    <span style=\"font-weight: bold\">}</span>\n",
       "<span style=\"font-weight: bold\">]</span>\n",
       "</pre>\n"
      ],
      "text/plain": [
       "\u001b[1m[\u001b[0m\n",
       "    \u001b[1m{\u001b[0m\n",
       "        \u001b[32m'url'\u001b[0m: \u001b[32m'https://medium.com/@cplog/introduction-to-langgraph-a-beginners-guide-14f9be027141'\u001b[0m,\n",
       "        \u001b[32m'content'\u001b[0m: \u001b[32m'Nodes: Nodes are the building blocks of your LangGraph. Each node represents a function or a \u001b[0m\n",
       "\u001b[32mcomputation step. You define nodes to perform specific tasks, such as processing input, making ...'\u001b[0m\n",
       "    \u001b[1m}\u001b[0m,\n",
       "    \u001b[1m{\u001b[0m\n",
       "        \u001b[32m'url'\u001b[0m: \u001b[32m'https://www.ionio.ai/blog/a-comprehensive-guide-about-langgraph-code-included'\u001b[0m,\n",
       "        \u001b[32m'content'\u001b[0m: \u001b[32m'A node can be any function or tool your agent uses in langgraph and these nodes are connected \u001b[0m\n",
       "\u001b[32mwith other nodes using edges. Every workflow ends with a \"END\" node in langgraph which shows the end of workflow. \u001b[0m\n",
       "\u001b[32mYou also need to define a starting node which will be the starting point of your workflow. Optionally, you can also\u001b[0m\n",
       "\u001b[32mdefine an ending ...'\u001b[0m\n",
       "    \u001b[1m}\u001b[0m\n",
       "\u001b[1m]\u001b[0m\n"
      ]
     },
     "metadata": {},
     "output_type": "display_data"
    }
   ],
   "source": [
    "rprint(tool.invoke(\"What is a 'node' in LangGraph?\"))"
   ]
  },
  {
   "cell_type": "markdown",
   "metadata": {},
   "source": [
    "The results are **page summaries our chatbot can use to answer questions**.\n",
    "\n",
    "Next, we will start defining our graph. The following will be **all the same as part 1, except we have added `bind_tools` to our LLM**.\n",
    "\n",
    "This **lets the LLM know the correct JSON format to use if it wants to use our search engine**."
   ]
  },
  {
   "cell_type": "markdown",
   "metadata": {},
   "source": [
    "## Initiate Graph and Chatbot Node"
   ]
  },
  {
   "cell_type": "code",
   "execution_count": 72,
   "metadata": {},
   "outputs": [],
   "source": [
    "graph_builder = StateGraph(State)\n",
    "\n",
    "llm_with_tools = llm.bind_tools(tools)\n",
    "\n",
    "graph_builder.add_node(\"chatbot\", chatbot)"
   ]
  },
  {
   "cell_type": "markdown",
   "metadata": {},
   "source": [
    "## Add a Tool Node"
   ]
  },
  {
   "cell_type": "markdown",
   "metadata": {},
   "source": [
    "Next, we need to **create a function to actually run the tools if they are called**.\n",
    "\n",
    "We'll do this by **adding the tools to a new node**.\n",
    "\n"
   ]
  },
  {
   "cell_type": "markdown",
   "metadata": {},
   "source": [
    "Below, we will implement a `BasicToolNode` that:\n",
    "- checks the most recent message in the state,\n",
    "- calls tools if this message contains `tool_calls`.\n",
    "\n",
    "**It relies on the LLM's tool_calling support**, which is available in Anthropic, Gemini, OpenAI and a number of other LLM providers.\n",
    "\n",
    "> **NOTE**\n",
    ">\n",
    "> We will later replace this with LangGraph's prebuilt [`ToolNode`](https://langchain-ai.github.io/langgraph/reference/prebuilt/#toolnode) to speed things up, but building it ourselves first is instructive."
   ]
  },
  {
   "cell_type": "code",
   "execution_count": 73,
   "metadata": {},
   "outputs": [],
   "source": [
    "import json\n",
    "\n",
    "from langchain_core.messages import ToolMessage"
   ]
  },
  {
   "cell_type": "code",
   "execution_count": 74,
   "metadata": {},
   "outputs": [],
   "source": [
    "class BasicToolNode:\n",
    "    \"\"\"A node that runs the tools requested in the last AIMessage\"\"\"\n",
    "\n",
    "    def __init__(self, tools: list) -> None:\n",
    "        # Create a mapping between tools' names and tools\n",
    "        self.tools_by_name = {tool.name: tool for tool in tools}\n",
    "\n",
    "    def __call__(self, inputs: dict):\n",
    "        if messages := inputs.get(\"messages\", []):\n",
    "            messages = messages[-1]\n",
    "        else:\n",
    "            raise ValueError(\"No message found in input\")\n",
    "        \n",
    "        outputs = []\n",
    "\n",
    "        for tool_call in messages.tool_calls:\n",
    "            tool_result = self.tools_by_name[tool_call[\"name\"]].invoke(\n",
    "                tool_call[\"args\"]\n",
    "            )\n",
    "            outputs.append(\n",
    "                ToolMessage(\n",
    "                    content=json.dumps(tool_result),\n",
    "                    name=tool_call[\"name\"],\n",
    "                    tool_call_id=tool_call[\"id\"],\n",
    "                )\n",
    "            )\n",
    "        \n",
    "        return {\"messages\": outputs}"
   ]
  },
  {
   "cell_type": "code",
   "execution_count": 75,
   "metadata": {},
   "outputs": [],
   "source": [
    "tool_node = BasicToolNode(tools=[tool])\n",
    "graph_builder.add_node(\"tools\", tool_node)"
   ]
  },
  {
   "cell_type": "markdown",
   "metadata": {},
   "source": [
    "## Add Conditional Edges"
   ]
  },
  {
   "cell_type": "markdown",
   "metadata": {},
   "source": [
    "With the tool node added, we can define `conditional_edges`.\n",
    "\n",
    "Recall that **edges route the control flow from one node to another**.\n",
    "\n",
    "**Conditional edges** usually contain `if` statements to route to different nodes depending on the current graph state.\n",
    "\n",
    "These functions:\n",
    "- receive the current graph state,\n",
    "- return a string or a list of strings **indicating which node to call next**."
   ]
  },
  {
   "cell_type": "markdown",
   "metadata": {},
   "source": [
    "Below, we define **a router function** called `route_tools`.\n",
    "\n",
    "It **checks for `tool_call`s in the chatbot's output**.\n",
    "\n",
    "Provide this function to the graph by calling `add_conditional_edges`, which tells the graph that whenever the `chatbot` node completes, it's needed to check this function's output to check which node to go next.\n",
    "\n",
    "The condition will route to:\n",
    "- `\"tools\"` node if tool calls are present,\n",
    "- `\"__end__\"` node if not."
   ]
  },
  {
   "cell_type": "markdown",
   "metadata": {},
   "source": [
    "> **NOTE**\n",
    "> \n",
    "> Later, we will replace this by the prebuilt `tools_condition` to be more concise but implementing it first by ourselves will make things more clear."
   ]
  },
  {
   "cell_type": "code",
   "execution_count": 76,
   "metadata": {},
   "outputs": [],
   "source": [
    "from typing import Literal"
   ]
  },
  {
   "cell_type": "code",
   "execution_count": 77,
   "metadata": {},
   "outputs": [],
   "source": [
    "def route_tools(state: State) -> Literal[\"tools\", \"__end__\"]:\n",
    "    \"\"\"\n",
    "    Use in the conditional_edge to route to:\n",
    "    - the \"tool\" node if the last message has tool calls,\n",
    "    - the \"__end__\" node otherwise.\n",
    "    \"\"\"\n",
    "    if isinstance(state, list):\n",
    "        ai_message = state[-1]\n",
    "    elif messages := state.get(\"messages\", []):\n",
    "        ai_message = messages[-1]\n",
    "    else:\n",
    "        raise ValueError(f\"No messages found in input state to tool_edge {state}\")\n",
    "    if hasattr(ai_message, \"tool_calls\") and len(ai_message.tool_calls) > 0:\n",
    "        return \"tools\"\n",
    "    return \"__end__\""
   ]
  },
  {
   "cell_type": "code",
   "execution_count": 78,
   "metadata": {},
   "outputs": [],
   "source": [
    "graph_builder.add_conditional_edges(\n",
    "    \"chatbot\",  # Starting node\n",
    "    route_tools,  # Decision function\n",
    "    # A dictionary to map `route_tools` output to destination node\n",
    "    {\"tools\": \"tools\", \"__end__\": \"__end__\"}\n",
    ")"
   ]
  },
  {
   "cell_type": "code",
   "execution_count": 79,
   "metadata": {},
   "outputs": [],
   "source": [
    "graph_builder.add_edge(\"tools\", \"chatbot\")\n",
    "graph_builder.set_entry_point(\"chatbot\")\n",
    "graph = graph_builder.compile()"
   ]
  },
  {
   "cell_type": "markdown",
   "metadata": {},
   "source": [
    "### Explanations"
   ]
  },
  {
   "cell_type": "markdown",
   "metadata": {},
   "source": [
    "Conditional edges start from a single node.\n",
    "\n",
    "This tells the graph that anytime the `\"chatbot\"` node runs, either:\n",
    "- go to `\"tools\"` node if it calls a tool,\n",
    "- end the loop if it responds directly.\n",
    "\n",
    "When the graph transitions to `\"__end__\"`, it has no more tasks to complete and hence ceases execution.\n",
    "\n",
    "Because the condition can return `\"__end__\"`, we don't need to explicitely use `set_finish_point` this time, as our graph as already a point to finish."
   ]
  },
  {
   "cell_type": "markdown",
   "metadata": {},
   "source": [
    "## Visualize the Graph"
   ]
  },
  {
   "cell_type": "code",
   "execution_count": 80,
   "metadata": {},
   "outputs": [
    {
     "data": {
      "image/png": "[encoded data removed]",
      "text/plain": [
       "<IPython.core.display.Image object>"
      ]
     },
     "metadata": {},
     "output_type": "display_data"
    }
   ],
   "source": [
    "try:\n",
    "    display(Image(graph.get_graph().draw_png()))\n",
    "except Exception:\n",
    "    # This requires some extra dependencies and is optional\n",
    "    pass"
   ]
  },
  {
   "cell_type": "code",
   "execution_count": 81,
   "metadata": {},
   "outputs": [
    {
     "data": {
      "image/jpeg": "[encoded data removed]",
      "text/plain": [
       "<IPython.core.display.Image object>"
      ]
     },
     "metadata": {},
     "output_type": "display_data"
    }
   ],
   "source": [
    "try:\n",
    "    display(Image(graph.get_graph().draw_mermaid_png()))\n",
    "except Exception:\n",
    "    # This requires some extra dependencies and is optional\n",
    "    pass"
   ]
  },
  {
   "cell_type": "markdown",
   "metadata": {},
   "source": [
    "## Ask the Chatbot Questions Outside its Training Data"
   ]
  },
  {
   "cell_type": "code",
   "execution_count": 82,
   "metadata": {},
   "outputs": [],
   "source": [
    "from langchain_core.messages import BaseMessage"
   ]
  },
  {
   "cell_type": "code",
   "execution_count": 85,
   "metadata": {},
   "outputs": [
    {
     "data": {
      "text/html": [
       "<pre style=\"white-space:pre;overflow-x:auto;line-height:normal;font-family:Menlo,'DejaVu Sans Mono',consolas,'Courier New',monospace\">Assistant: The teams confronted in the NBA Finals <span style=\"color: #008080; text-decoration-color: #008080; font-weight: bold\">2024</span> were the Los Angeles Lakers and the Brooklyn Nets.\n",
       "</pre>\n"
      ],
      "text/plain": [
       "Assistant: The teams confronted in the NBA Finals \u001b[1;36m2024\u001b[0m were the Los Angeles Lakers and the Brooklyn Nets.\n"
      ]
     },
     "metadata": {},
     "output_type": "display_data"
    },
    {
     "data": {
      "text/html": [
       "<pre style=\"white-space:pre;overflow-x:auto;line-height:normal;font-family:Menlo,'DejaVu Sans Mono',consolas,'Courier New',monospace\">Assistant: I'm sorry, but I am unable to provide real-time weather updates. I recommend checking a reliable weather\n",
       "website or app for the most up-to-date information on the weather in San Francisco.\n",
       "</pre>\n"
      ],
      "text/plain": [
       "Assistant: I'm sorry, but I am unable to provide real-time weather updates. I recommend checking a reliable weather\n",
       "website or app for the most up-to-date information on the weather in San Francisco.\n"
      ]
     },
     "metadata": {},
     "output_type": "display_data"
    },
    {
     "data": {
      "text/html": [
       "<pre style=\"white-space:pre;overflow-x:auto;line-height:normal;font-family:Menlo,'DejaVu Sans Mono',consolas,'Courier New',monospace\">Goodbye!\n",
       "</pre>\n"
      ],
      "text/plain": [
       "Goodbye!\n"
      ]
     },
     "metadata": {},
     "output_type": "display_data"
    }
   ],
   "source": [
    "while True:\n",
    "    user_input = input(\"User: \")\n",
    "    if user_input.lower() in (\"quit\", \"exit\", \"q\"):\n",
    "        rprint(\"Goodbye!\")\n",
    "        break\n",
    "    for event in graph.stream({\"messages\": [(\"user\", user_input)]}):\n",
    "        for value in event.values():\n",
    "            if isinstance(value[\"messages\"][-1], BaseMessage):\n",
    "                rprint(\"Assistant:\", value[\"messages\"][-1].content)"
   ]
  },
  {
   "cell_type": "markdown",
   "metadata": {},
   "source": [
    "> **NOTE**\n",
    "> \n",
    "> **This output underlines there's still something to fix here!**"
   ]
  },
  {
   "cell_type": "markdown",
   "metadata": {},
   "source": [
    "## Up to Date Full Snippet"
   ]
  },
  {
   "cell_type": "markdown",
   "metadata": {},
   "source": [
    "### Imports"
   ]
  },
  {
   "cell_type": "code",
   "execution_count": 86,
   "metadata": {},
   "outputs": [],
   "source": [
    "from typing import Annotated\n",
    "\n",
    "from langchain_community.tools.tavily_search import TavilySearchResults\n",
    "from langchain_core.messages import BaseMessage\n",
    "from langchain_openai import ChatOpenAI\n",
    "from langgraph.graph import StateGraph\n",
    "from langgraph.graph.message import add_messages\n",
    "from langgraph.prebuilt import ToolNode, tools_condition\n",
    "from typing_extensions import TypedDict\n"
   ]
  },
  {
   "cell_type": "markdown",
   "metadata": {},
   "source": [
    "### `State`"
   ]
  },
  {
   "cell_type": "code",
   "execution_count": 87,
   "metadata": {},
   "outputs": [],
   "source": [
    "class State(TypedDict):\n",
    "    messages: Annotated[list, add_messages]"
   ]
  },
  {
   "cell_type": "markdown",
   "metadata": {},
   "source": [
    "### Graph Builder, Tools, LLM"
   ]
  },
  {
   "cell_type": "code",
   "execution_count": 90,
   "metadata": {},
   "outputs": [],
   "source": [
    "graph_builder = StateGraph(State)\n",
    "\n",
    "tool = TavilySearchResults(max_results=2)\n",
    "tools = [tool]\n",
    "\n",
    "llm = ChatOpenAI(model=\"gpt-3.5-turbo\")\n",
    "llm_with_tools = llm.bind_tools(tools)"
   ]
  },
  {
   "cell_type": "markdown",
   "metadata": {},
   "source": [
    "### Nodes"
   ]
  },
  {
   "cell_type": "code",
   "execution_count": 91,
   "metadata": {},
   "outputs": [],
   "source": [
    "def chatbot(state: State):\n",
    "    return {\"messages\": [llm_with_tools.invoke(state[\"messages\"])]}\n",
    "\n",
    "graph_builder.add_node(\"chatbot\", chatbot)\n",
    "\n",
    "tool_node = ToolNode(tools=tools)\n",
    "graph_builder.add_node(\"tools\", tool_node)"
   ]
  },
  {
   "cell_type": "markdown",
   "metadata": {},
   "source": [
    "### Edges"
   ]
  },
  {
   "cell_type": "code",
   "execution_count": 92,
   "metadata": {},
   "outputs": [],
   "source": [
    "graph_builder.add_conditional_edges(\n",
    "    \"chatbot\",\n",
    "    tools_condition,\n",
    ")\n",
    "\n",
    "graph_builder.add_edge(\"tools\", \"chatbot\")"
   ]
  },
  {
   "cell_type": "markdown",
   "metadata": {},
   "source": [
    "### Set Entry Point and Compile"
   ]
  },
  {
   "cell_type": "code",
   "execution_count": 93,
   "metadata": {},
   "outputs": [],
   "source": [
    "graph_builder.set_entry_point(\"chatbot\")\n",
    "graph = graph_builder.compile()"
   ]
  },
  {
   "cell_type": "markdown",
   "metadata": {},
   "source": [
    "### Visualize Graph"
   ]
  },
  {
   "cell_type": "code",
   "execution_count": 94,
   "metadata": {},
   "outputs": [
    {
     "data": {
      "image/jpeg": "[encoded data removed]",
      "text/plain": [
       "<IPython.core.display.Image object>"
      ]
     },
     "metadata": {},
     "output_type": "display_data"
    }
   ],
   "source": [
    "try:\n",
    "    display(Image(graph.get_graph().draw_mermaid_png()))\n",
    "except Exception:\n",
    "    # This requires some extra dependencies and is optional\n",
    "    pass"
   ]
  },
  {
   "cell_type": "markdown",
   "metadata": {},
   "source": [
    "### Ask the Chatbot!"
   ]
  },
  {
   "cell_type": "code",
   "execution_count": 95,
   "metadata": {},
   "outputs": [
    {
     "data": {
      "text/html": [
       "<pre style=\"white-space:pre;overflow-x:auto;line-height:normal;font-family:Menlo,'DejaVu Sans Mono',consolas,'Courier New',monospace\">Assistant: \n",
       "</pre>\n"
      ],
      "text/plain": [
       "Assistant: \n"
      ]
     },
     "metadata": {},
     "output_type": "display_data"
    },
    {
     "data": {
      "text/html": [
       "<pre style=\"white-space:pre;overflow-x:auto;line-height:normal;font-family:Menlo,'DejaVu Sans Mono',consolas,'Courier New',monospace\">Assistant: <span style=\"font-weight: bold\">[{</span><span style=\"color: #008000; text-decoration-color: #008000\">\"url\"</span>: <span style=\"color: #008000; text-decoration-color: #008000\">\"https://www.nba.com/playoffs/2024/nba-finals\"</span>, <span style=\"color: #008000; text-decoration-color: #008000\">\"content\"</span>: <span style=\"color: #008000; text-decoration-color: #008000\">\"Find out the dates, times and </span>\n",
       "<span style=\"color: #008000; text-decoration-color: #008000\">broadcaster of the 2024 NBA Finals, as well as the latest news and highlights from the playoffs. Relive the moments</span>\n",
       "<span style=\"color: #008000; text-decoration-color: #008000\">and champions of every NBA Finals since 2000.\"</span><span style=\"font-weight: bold\">}</span>, <span style=\"font-weight: bold\">{</span><span style=\"color: #008000; text-decoration-color: #008000\">\"url\"</span>: <span style=\"color: #008000; text-decoration-color: #008000\">\"https://www.nba.com/playoffs/2024\"</span>, <span style=\"color: #008000; text-decoration-color: #008000\">\"content\"</span>: <span style=\"color: #008000; text-decoration-color: #008000\">\"See the </span>\n",
       "<span style=\"color: #008000; text-decoration-color: #008000\">latest results and previews of the 2024 NBA playoffs, featuring the Celtics, Pacers, Wolves and Mavs in the </span>\n",
       "<span style=\"color: #008000; text-decoration-color: #008000\">conference finals. Find out who will face each other in the 2024 NBA Finals and watch the top plays and news of the</span>\n",
       "<span style=\"color: #008000; text-decoration-color: #008000\">postseason.\"</span><span style=\"font-weight: bold\">}]</span>\n",
       "</pre>\n"
      ],
      "text/plain": [
       "Assistant: \u001b[1m[\u001b[0m\u001b[1m{\u001b[0m\u001b[32m\"url\"\u001b[0m: \u001b[32m\"https://www.nba.com/playoffs/2024/nba-finals\"\u001b[0m, \u001b[32m\"content\"\u001b[0m: \u001b[32m\"Find out the dates, times and \u001b[0m\n",
       "\u001b[32mbroadcaster of the 2024 NBA Finals, as well as the latest news and highlights from the playoffs. Relive the moments\u001b[0m\n",
       "\u001b[32mand champions of every NBA Finals since 2000.\"\u001b[0m\u001b[1m}\u001b[0m, \u001b[1m{\u001b[0m\u001b[32m\"url\"\u001b[0m: \u001b[32m\"https://www.nba.com/playoffs/2024\"\u001b[0m, \u001b[32m\"content\"\u001b[0m: \u001b[32m\"See the \u001b[0m\n",
       "\u001b[32mlatest results and previews of the 2024 NBA playoffs, featuring the Celtics, Pacers, Wolves and Mavs in the \u001b[0m\n",
       "\u001b[32mconference finals. Find out who will face each other in the 2024 NBA Finals and watch the top plays and news of the\u001b[0m\n",
       "\u001b[32mpostseason.\"\u001b[0m\u001b[1m}\u001b[0m\u001b[1m]\u001b[0m\n"
      ]
     },
     "metadata": {},
     "output_type": "display_data"
    },
    {
     "data": {
      "text/html": [
       "<pre style=\"white-space:pre;overflow-x:auto;line-height:normal;font-family:Menlo,'DejaVu Sans Mono',consolas,'Courier New',monospace\">Assistant: The teams in the NBA Finals <span style=\"color: #008080; text-decoration-color: #008080; font-weight: bold\">2024</span> are the Celtics, Pacers, Wolves, and Mavs.\n",
       "</pre>\n"
      ],
      "text/plain": [
       "Assistant: The teams in the NBA Finals \u001b[1;36m2024\u001b[0m are the Celtics, Pacers, Wolves, and Mavs.\n"
      ]
     },
     "metadata": {},
     "output_type": "display_data"
    },
    {
     "data": {
      "text/html": [
       "<pre style=\"white-space:pre;overflow-x:auto;line-height:normal;font-family:Menlo,'DejaVu Sans Mono',consolas,'Courier New',monospace\">Assistant: \n",
       "</pre>\n"
      ],
      "text/plain": [
       "Assistant: \n"
      ]
     },
     "metadata": {},
     "output_type": "display_data"
    },
    {
     "data": {
      "text/html": [
       "<pre style=\"white-space:pre;overflow-x:auto;line-height:normal;font-family:Menlo,'DejaVu Sans Mono',consolas,'Courier New',monospace\">Assistant: <span style=\"font-weight: bold\">[{</span><span style=\"color: #008000; text-decoration-color: #008000\">\"url\"</span>: <span style=\"color: #008000; text-decoration-color: #008000\">\"https://www.nba.com/playoffs/2024\"</span>, <span style=\"color: #008000; text-decoration-color: #008000\">\"content\"</span>: <span style=\"color: #008000; text-decoration-color: #008000\">\"The official site of the 2024 NBA Playoffs. </span>\n",
       "<span style=\"color: #008000; text-decoration-color: #008000\">Latest news, schedules, matchups, highlights, bracket and more.\"</span><span style=\"font-weight: bold\">}</span>, <span style=\"font-weight: bold\">{</span><span style=\"color: #008000; text-decoration-color: #008000\">\"url\"</span>: \n",
       "<span style=\"color: #008000; text-decoration-color: #008000\">\"https://www.espn.com/nba/story/_/id/39943302/nba-finals-2024-celtics-mavericks-news-scores-highlights\"</span>, <span style=\"color: #008000; text-decoration-color: #008000\">\"content\"</span>:\n",
       "<span style=\"color: #008000; text-decoration-color: #008000\">\"The 2024 NBA Finals are here! Only two teams remain standing in the postseason as the best-of-seven series between</span>\n",
       "<span style=\"color: #008000; text-decoration-color: #008000\">the Boston Celtics and the Dallas Mavericks tipped off on June 6 (watch every ...\"</span><span style=\"font-weight: bold\">}]</span>\n",
       "</pre>\n"
      ],
      "text/plain": [
       "Assistant: \u001b[1m[\u001b[0m\u001b[1m{\u001b[0m\u001b[32m\"url\"\u001b[0m: \u001b[32m\"https://www.nba.com/playoffs/2024\"\u001b[0m, \u001b[32m\"content\"\u001b[0m: \u001b[32m\"The official site of the 2024 NBA Playoffs. \u001b[0m\n",
       "\u001b[32mLatest news, schedules, matchups, highlights, bracket and more.\"\u001b[0m\u001b[1m}\u001b[0m, \u001b[1m{\u001b[0m\u001b[32m\"url\"\u001b[0m: \n",
       "\u001b[32m\"https://www.espn.com/nba/story/_/id/39943302/nba-finals-2024-celtics-mavericks-news-scores-highlights\"\u001b[0m, \u001b[32m\"content\"\u001b[0m:\n",
       "\u001b[32m\"The 2024 NBA Finals are here! Only two teams remain standing in the postseason as the best-of-seven series between\u001b[0m\n",
       "\u001b[32mthe Boston Celtics and the Dallas Mavericks tipped off on June 6 \u001b[0m\u001b[32m(\u001b[0m\u001b[32mwatch every ...\"\u001b[0m\u001b[1m}\u001b[0m\u001b[1m]\u001b[0m\n"
      ]
     },
     "metadata": {},
     "output_type": "display_data"
    },
    {
     "data": {
      "text/html": [
       "<pre style=\"white-space:pre;overflow-x:auto;line-height:normal;font-family:Menlo,'DejaVu Sans Mono',consolas,'Courier New',monospace\">Assistant: The current round of the NBA Finals <span style=\"color: #008080; text-decoration-color: #008080; font-weight: bold\">2024</span> features the Boston Celtics and the Dallas Mavericks. The \n",
       "best-of-seven series between these two teams began on June <span style=\"color: #008080; text-decoration-color: #008080; font-weight: bold\">6</span>. You can find more information on the official NBA \n",
       "Playoffs website <span style=\"font-weight: bold\">(</span><span style=\"color: #0000ff; text-decoration-color: #0000ff; text-decoration: underline\">https://www.nba.com/playoffs/2024)</span> and on ESPN's coverage \n",
       "<span style=\"font-weight: bold\">(</span><span style=\"color: #0000ff; text-decoration-color: #0000ff; text-decoration: underline\">https://www.espn.com/nba/story/_/id/39943302/nba-finals-2024-celtics-mavericks-news-scores-highlights).</span>\n",
       "</pre>\n"
      ],
      "text/plain": [
       "Assistant: The current round of the NBA Finals \u001b[1;36m2024\u001b[0m features the Boston Celtics and the Dallas Mavericks. The \n",
       "best-of-seven series between these two teams began on June \u001b[1;36m6\u001b[0m. You can find more information on the official NBA \n",
       "Playoffs website \u001b[1m(\u001b[0m\u001b[4;94mhttps://www.nba.com/playoffs/2024\u001b[0m\u001b[4;94m)\u001b[0m and on ESPN's coverage \n",
       "\u001b[1m(\u001b[0m\u001b[4;94mhttps://www.espn.com/nba/story/_/id/39943302/nba-finals-2024-celtics-mavericks-news-scores-highlights\u001b[0m\u001b[4;94m)\u001b[0m\u001b[4;94m.\u001b[0m\n"
      ]
     },
     "metadata": {},
     "output_type": "display_data"
    },
    {
     "data": {
      "text/html": [
       "<pre style=\"white-space:pre;overflow-x:auto;line-height:normal;font-family:Menlo,'DejaVu Sans Mono',consolas,'Courier New',monospace\">Goodbye!\n",
       "</pre>\n"
      ],
      "text/plain": [
       "Goodbye!\n"
      ]
     },
     "metadata": {},
     "output_type": "display_data"
    }
   ],
   "source": [
    "while True:\n",
    "    user_input = input(\"User: \")\n",
    "    if user_input.lower() in (\"quit\", \"exit\", \"q\"):\n",
    "        rprint(\"Goodbye!\")\n",
    "        break\n",
    "    for event in graph.stream({\"messages\": [(\"user\", user_input)]}):\n",
    "        for value in event.values():\n",
    "            if isinstance(value[\"messages\"][-1], BaseMessage):\n",
    "                rprint(\"Assistant:\", value[\"messages\"][-1].content)"
   ]
  },
  {
   "cell_type": "markdown",
   "metadata": {},
   "source": []
  }
 ],
 "metadata": {
  "kernelspec": {
   "display_name": ".venv",
   "language": "python",
   "name": "python3"
  },
  "language_info": {
   "codemirror_mode": {
    "name": "ipython",
    "version": 3
   },
   "file_extension": ".py",
   "mimetype": "text/x-python",
   "name": "python",
   "nbconvert_exporter": "python",
   "pygments_lexer": "ipython3",
   "version": "3.11.9"
  }
 },
 "nbformat": 4,
 "nbformat_minor": 2
}
