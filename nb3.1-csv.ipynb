{
 "cells": [
  {
   "cell_type": "markdown",
   "metadata": {},
   "source": [
    "# CSV"
   ]
  },
  {
   "cell_type": "markdown",
   "metadata": {},
   "source": [
    "> A [**comma-separarated-values (CSV)**](https://en.wikipedia.org/wiki/Comma-separated_values) file is a delimited text file that uses a comma to separate values.\n",
    "> \n",
    "> Each line of the file is a data record.\n",
    "> \n",
    "> Each record consists of one or more fields, separated by commas."
   ]
  },
  {
   "cell_type": "markdown",
   "metadata": {},
   "source": [
    "Load CSV data with a single row per document."
   ]
  },
  {
   "cell_type": "code",
   "execution_count": 1,
   "metadata": {},
   "outputs": [],
   "source": [
    "from langchain_community.document_loaders.csv_loader import CSVLoader"
   ]
  },
  {
   "cell_type": "code",
   "execution_count": 2,
   "metadata": {},
   "outputs": [],
   "source": [
    "loader = CSVLoader(file_path='./example_data/mlb_teams_2012.csv')\n",
    "data = loader.load()"
   ]
  },
  {
   "cell_type": "code",
   "execution_count": 3,
   "metadata": {},
   "outputs": [
    {
     "data": {
      "text/plain": [
       "list"
      ]
     },
     "execution_count": 3,
     "metadata": {},
     "output_type": "execute_result"
    }
   ],
   "source": [
    "type(data)"
   ]
  },
  {
   "cell_type": "code",
   "execution_count": 12,
   "metadata": {},
   "outputs": [
    {
     "data": {
      "text/plain": [
       "[Document(page_content='MLB Team: Team\\nPayroll in millions: \"Payroll (millions)\"\\nWins: \"Wins\"', metadata={'source': './example_data/mlb_teams_2012.csv', 'row': 0}),\n",
       " Document(page_content='MLB Team: Nationals\\nPayroll in millions: 81.34\\nWins: 98', metadata={'source': './example_data/mlb_teams_2012.csv', 'row': 1}),\n",
       " Document(page_content='MLB Team: Reds\\nPayroll in millions: 82.20\\nWins: 97', metadata={'source': './example_data/mlb_teams_2012.csv', 'row': 2})]"
      ]
     },
     "execution_count": 12,
     "metadata": {},
     "output_type": "execute_result"
    }
   ],
   "source": [
    "data[:3]"
   ]
  },
  {
   "cell_type": "markdown",
   "metadata": {},
   "source": [
    "# Customizing the CSV Parsing and Loading"
   ]
  },
  {
   "cell_type": "markdown",
   "metadata": {},
   "source": [
    "See the [**csv module documentation**](https://docs.python.org/3/library/csv.html) for more information of what csv args are supported."
   ]
  },
  {
   "cell_type": "code",
   "execution_count": 6,
   "metadata": {},
   "outputs": [],
   "source": [
    "loader = CSVLoader(file_path='./example_data/mlb_teams_2012.csv', csv_args={\n",
    "    'delimiter': ',',\n",
    "    'quotechar': '\"',\n",
    "    'fieldnames': ['MLB Team', 'Payroll in millions', 'Wins']\n",
    "})"
   ]
  },
  {
   "cell_type": "code",
   "execution_count": 7,
   "metadata": {},
   "outputs": [
    {
     "data": {
      "text/plain": [
       "langchain_community.document_loaders.csv_loader.CSVLoader"
      ]
     },
     "execution_count": 7,
     "metadata": {},
     "output_type": "execute_result"
    }
   ],
   "source": [
    "type(loader)"
   ]
  },
  {
   "cell_type": "code",
   "execution_count": 8,
   "metadata": {},
   "outputs": [
    {
     "data": {
      "text/plain": [
       "<langchain_community.document_loaders.csv_loader.CSVLoader at 0x7ff07e0e6e90>"
      ]
     },
     "execution_count": 8,
     "metadata": {},
     "output_type": "execute_result"
    }
   ],
   "source": [
    "loader"
   ]
  },
  {
   "cell_type": "code",
   "execution_count": 9,
   "metadata": {},
   "outputs": [],
   "source": [
    "data = loader.load()"
   ]
  },
  {
   "cell_type": "code",
   "execution_count": 11,
   "metadata": {},
   "outputs": [
    {
     "data": {
      "text/plain": [
       "[Document(page_content='MLB Team: Team\\nPayroll in millions: \"Payroll (millions)\"\\nWins: \"Wins\"', metadata={'source': './example_data/mlb_teams_2012.csv', 'row': 0}),\n",
       " Document(page_content='MLB Team: Nationals\\nPayroll in millions: 81.34\\nWins: 98', metadata={'source': './example_data/mlb_teams_2012.csv', 'row': 1}),\n",
       " Document(page_content='MLB Team: Reds\\nPayroll in millions: 82.20\\nWins: 97', metadata={'source': './example_data/mlb_teams_2012.csv', 'row': 2})]"
      ]
     },
     "execution_count": 11,
     "metadata": {},
     "output_type": "execute_result"
    }
   ],
   "source": [
    "data[:3]"
   ]
  },
  {
   "cell_type": "markdown",
   "metadata": {},
   "source": [
    "# Specify a Column to Identify The Documents Source"
   ]
  },
  {
   "cell_type": "markdown",
   "metadata": {},
   "source": [
    "Use the `source_column`argument to specify a source for the document created from each row.\n",
    "\n",
    "Otherwise, `file_path` will used **as the source for all documents created from the CSV file**.\n",
    "\n",
    "This is useful when using documents loaded from CSV files **for chains that answer questions using sources**.\n",
    "\n"
   ]
  },
  {
   "cell_type": "code",
   "execution_count": 13,
   "metadata": {},
   "outputs": [],
   "source": [
    "loader = CSVLoader(file_path='./example_data/mlb_teams_2012.csv', source_column=\"Team\")\n",
    "\n",
    "data = loader.load()"
   ]
  },
  {
   "cell_type": "code",
   "execution_count": 14,
   "metadata": {},
   "outputs": [
    {
     "data": {
      "text/plain": [
       "[Document(page_content='Team: Nationals\\n\"Payroll (millions)\": 81.34\\n\"Wins\": 98', metadata={'source': 'Nationals', 'row': 0}),\n",
       " Document(page_content='Team: Reds\\n\"Payroll (millions)\": 82.20\\n\"Wins\": 97', metadata={'source': 'Reds', 'row': 1}),\n",
       " Document(page_content='Team: Yankees\\n\"Payroll (millions)\": 197.96\\n\"Wins\": 95', metadata={'source': 'Yankees', 'row': 2}),\n",
       " Document(page_content='Team: Giants\\n\"Payroll (millions)\": 117.62\\n\"Wins\": 94', metadata={'source': 'Giants', 'row': 3}),\n",
       " Document(page_content='Team: Braves\\n\"Payroll (millions)\": 83.31\\n\"Wins\": 94', metadata={'source': 'Braves', 'row': 4}),\n",
       " Document(page_content='Team: Athletics\\n\"Payroll (millions)\": 55.37\\n\"Wins\": 94', metadata={'source': 'Athletics', 'row': 5}),\n",
       " Document(page_content='Team: Rangers\\n\"Payroll (millions)\": 120.51\\n\"Wins\": 93', metadata={'source': 'Rangers', 'row': 6}),\n",
       " Document(page_content='Team: Orioles\\n\"Payroll (millions)\": 81.43\\n\"Wins\": 93', metadata={'source': 'Orioles', 'row': 7}),\n",
       " Document(page_content='Team: Rays\\n\"Payroll (millions)\": 64.17\\n\"Wins\": 90', metadata={'source': 'Rays', 'row': 8}),\n",
       " Document(page_content='Team: Angels\\n\"Payroll (millions)\": 154.49\\n\"Wins\": 89', metadata={'source': 'Angels', 'row': 9}),\n",
       " Document(page_content='Team: Tigers\\n\"Payroll (millions)\": 132.30\\n\"Wins\": 88', metadata={'source': 'Tigers', 'row': 10}),\n",
       " Document(page_content='Team: Cardinals\\n\"Payroll (millions)\": 110.30\\n\"Wins\": 88', metadata={'source': 'Cardinals', 'row': 11}),\n",
       " Document(page_content='Team: Dodgers\\n\"Payroll (millions)\": 95.14\\n\"Wins\": 86', metadata={'source': 'Dodgers', 'row': 12}),\n",
       " Document(page_content='Team: White Sox\\n\"Payroll (millions)\": 96.92\\n\"Wins\": 85', metadata={'source': 'White Sox', 'row': 13}),\n",
       " Document(page_content='Team: Brewers\\n\"Payroll (millions)\": 97.65\\n\"Wins\": 83', metadata={'source': 'Brewers', 'row': 14}),\n",
       " Document(page_content='Team: Phillies\\n\"Payroll (millions)\": 174.54\\n\"Wins\": 81', metadata={'source': 'Phillies', 'row': 15}),\n",
       " Document(page_content='Team: Diamondbacks\\n\"Payroll (millions)\": 74.28\\n\"Wins\": 81', metadata={'source': 'Diamondbacks', 'row': 16}),\n",
       " Document(page_content='Team: Pirates\\n\"Payroll (millions)\": 63.43\\n\"Wins\": 79', metadata={'source': 'Pirates', 'row': 17}),\n",
       " Document(page_content='Team: Padres\\n\"Payroll (millions)\": 55.24\\n\"Wins\": 76', metadata={'source': 'Padres', 'row': 18}),\n",
       " Document(page_content='Team: Mariners\\n\"Payroll (millions)\": 81.97\\n\"Wins\": 75', metadata={'source': 'Mariners', 'row': 19}),\n",
       " Document(page_content='Team: Mets\\n\"Payroll (millions)\": 93.35\\n\"Wins\": 74', metadata={'source': 'Mets', 'row': 20}),\n",
       " Document(page_content='Team: Blue Jays\\n\"Payroll (millions)\": 75.48\\n\"Wins\": 73', metadata={'source': 'Blue Jays', 'row': 21}),\n",
       " Document(page_content='Team: Royals\\n\"Payroll (millions)\": 60.91\\n\"Wins\": 72', metadata={'source': 'Royals', 'row': 22}),\n",
       " Document(page_content='Team: Marlins\\n\"Payroll (millions)\": 118.07\\n\"Wins\": 69', metadata={'source': 'Marlins', 'row': 23}),\n",
       " Document(page_content='Team: Red Sox\\n\"Payroll (millions)\": 173.18\\n\"Wins\": 69', metadata={'source': 'Red Sox', 'row': 24}),\n",
       " Document(page_content='Team: Indians\\n\"Payroll (millions)\": 78.43\\n\"Wins\": 68', metadata={'source': 'Indians', 'row': 25}),\n",
       " Document(page_content='Team: Twins\\n\"Payroll (millions)\": 94.08\\n\"Wins\": 66', metadata={'source': 'Twins', 'row': 26}),\n",
       " Document(page_content='Team: Rockies\\n\"Payroll (millions)\": 78.06\\n\"Wins\": 64', metadata={'source': 'Rockies', 'row': 27}),\n",
       " Document(page_content='Team: Cubs\\n\"Payroll (millions)\": 88.19\\n\"Wins\": 61', metadata={'source': 'Cubs', 'row': 28}),\n",
       " Document(page_content='Team: Astros\\n\"Payroll (millions)\": 60.65\\n\"Wins\": 55', metadata={'source': 'Astros', 'row': 29})]"
      ]
     },
     "execution_count": 14,
     "metadata": {},
     "output_type": "execute_result"
    }
   ],
   "source": [
    "data"
   ]
  },
  {
   "cell_type": "code",
   "execution_count": null,
   "metadata": {},
   "outputs": [],
   "source": []
  }
 ],
 "metadata": {
  "kernelspec": {
   "display_name": ".venv",
   "language": "python",
   "name": "python3"
  },
  "language_info": {
   "codemirror_mode": {
    "name": "ipython",
    "version": 3
   },
   "file_extension": ".py",
   "mimetype": "text/x-python",
   "name": "python",
   "nbconvert_exporter": "python",
   "pygments_lexer": "ipython3",
   "version": "3.11.2"
  }
 },
 "nbformat": 4,
 "nbformat_minor": 2
}
